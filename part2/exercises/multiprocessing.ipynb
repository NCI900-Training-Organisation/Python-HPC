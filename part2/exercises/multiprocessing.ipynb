{
 "cells": [
  {
   "attachments": {},
   "cell_type": "markdown",
   "metadata": {},
   "source": [
    "# Exploring Python Multiprocessing"
   ]
  },
  {
   "attachments": {},
   "cell_type": "markdown",
   "metadata": {},
   "source": [
    "In this notebook we will explore parallel execution in Python. We first import the libraries we will need."
   ]
  },
  {
   "cell_type": "code",
   "execution_count": 1,
   "metadata": {},
   "outputs": [],
   "source": [
    "import multiprocessing as mp\n",
    "import os\n",
    "import random\n",
    "from datetime import datetime\n",
    "\n",
    "random.seed(12345)\n"
   ]
  },
  {
   "attachments": {},
   "cell_type": "markdown",
   "metadata": {},
   "source": [
    "### Computing $\\pi$"
   ]
  },
  {
   "attachments": {},
   "cell_type": "markdown",
   "metadata": {},
   "source": [
    "The running example we will use is the computation of $\\pi$ using monte-carlo simulation. To compute $\\pi$, we need to sample points uniformly from $[-1, 1]^2$ and count how many points land within the unit circle. Then $$\\pi = 4.0 * \\frac{\\text{points in circle}}{\\text{total points}}$$\n",
    "\n",
    "First implement a function `sample()` that generates a random sample in $[-1, 1]^2$ and returns whether it lands inside the unit circle."
   ]
  },
  {
   "cell_type": "code",
   "execution_count": 2,
   "metadata": {},
   "outputs": [
    {
     "ename": "SyntaxError",
     "evalue": "incomplete input (2897461493.py, line 2)",
     "output_type": "error",
     "traceback": [
      "\u001b[0;36m  Input \u001b[0;32mIn [2]\u001b[0;36m\u001b[0m\n\u001b[0;31m    # TODO\u001b[0m\n\u001b[0m          ^\u001b[0m\n\u001b[0;31mSyntaxError\u001b[0m\u001b[0;31m:\u001b[0m incomplete input\n"
     ]
    }
   ],
   "source": [
    "def sample():\n",
    "    pass\n",
    "    # TODO"
   ]
  },
  {
   "attachments": {},
   "cell_type": "markdown",
   "metadata": {},
   "source": [
    "### Serial Computation\n",
    "\n",
    "First we will see how long it takes to perform the monte-carlo simulation serially. \n",
    "\n",
    "Write a function `sample_serial()` that takes `nsamples` as an argument and samples `nsamples` times and returns the number of samples that land in the unit circle. Then test it out for different values of `N`"
   ]
  },
  {
   "cell_type": "code",
   "execution_count": 5,
   "metadata": {},
   "outputs": [
    {
     "name": "stdout",
     "output_type": "stream",
     "text": [
      "Time: 0:00:11.287341, pi: 3.141349200\n"
     ]
    }
   ],
   "source": [
    "# ------------------------------------------------\n",
    "\"\"\"\n",
    "TODO:\n",
    "Implement sample_serial(nsamples) here.\n",
    "\"\"\"\n",
    "\n",
    "\n",
    "# ------------------------------------------------\n",
    "\n",
    "N = int(2e7)\n",
    "start = datetime.now()\n",
    "hits = sample_serial(N)\n",
    "pi = 4.0 * hits / N\n",
    "print(f\"Time: {datetime.now() - start}, pi: {pi:.9f}\")"
   ]
  },
  {
   "attachments": {},
   "cell_type": "markdown",
   "metadata": {},
   "source": [
    "#### Using `multiprocessing.Process`"
   ]
  },
  {
   "attachments": {},
   "cell_type": "markdown",
   "metadata": {},
   "source": [
    "We now look to use `multiprocessing.Process` to execute our sampling in parallel.\n",
    "\n",
    "- Write a function `process_sample()` that executes `chunk_size` number of samples and places the result in a `multiprocessing.Queue` object.\n",
    "\n",
    "- Split the number of samples into nprocesses number of chunks.\n",
    "\n",
    "- Use `multiprocessing.Process` to spawn `nprocesses` number of processes that execute each `process_sample()` on chunk_size number of samples."
   ]
  },
  {
   "cell_type": "code",
   "execution_count": 7,
   "metadata": {},
   "outputs": [
    {
     "name": "stdout",
     "output_type": "stream",
     "text": [
      "Time: 0:00:03.008394, pi: 3.141758400\n"
     ]
    }
   ],
   "source": [
    "\n",
    "# ------------------------------------------------\n",
    "\n",
    "# TODO: Implement process_sample(chunk_size, q)\n",
    "\n",
    "\n",
    "# ------------------------------------------------\n",
    "\n",
    "N = int(2e7)\n",
    "hits = 0\n",
    "nprocesses = 1 # TODO: modify.\n",
    "chunk_size = 0 # TODO: modify.\n",
    "\n",
    "start = datetime.now()\n",
    "# ------------------------------------------------\n",
    "\n",
    "# TODO: Use multiprocessing.Process to execute\n",
    "#       process_sample() in parallel.\n",
    "\n",
    "\n",
    "# ------------------------------------------------\n",
    "pi = 4.0 * hits / N\n",
    "\n",
    "print(f\"Time: {datetime.now() - start}, pi: {pi:.9f}\")"
   ]
  },
  {
   "attachments": {},
   "cell_type": "markdown",
   "metadata": {},
   "source": [
    "##### Using `multiprocessing.Pool`"
   ]
  },
  {
   "attachments": {},
   "cell_type": "markdown",
   "metadata": {},
   "source": [
    "We now look to use `multiprocessing.Pool` and the `Pool.apply` method.\n",
    "\n",
    "- Write a function `pool_sample()` that executes `nsamples` number of samples.\n",
    "\n",
    "- Use `Pool.apply` to execute `pool_sample()` in parallel on chunk_size number of samples."
   ]
  },
  {
   "cell_type": "code",
   "execution_count": 7,
   "metadata": {},
   "outputs": [
    {
     "name": "stdout",
     "output_type": "stream",
     "text": [
      "Time: 0:00:11.408697, pi: 3.141850200\n"
     ]
    }
   ],
   "source": [
    "\n",
    "# ------------------------------------------------\n",
    "\n",
    "# TODO: implement pool_sample()\n",
    "\n",
    "\n",
    "\n",
    "# ------------------------------------------------\n",
    "\n",
    "nsamples = int(2e7)\n",
    "nprocesses = 1\n",
    "chunk_size = 1 # TODO: modify.\n",
    "\n",
    "start = datetime.now()\n",
    "# ------------------------------------------------\n",
    "\n",
    "# TODO: Use multiprocessing.Pool and Pool.apply to\n",
    "#       execute pool_sample() in parallel.\n",
    "\n",
    "\n",
    "\n",
    "# ------------------------------------------------\n",
    "\n",
    "pi = 4.0 * hits / nsamples\n",
    "print(f\"Time: {datetime.now() - start}, pi: {pi:.9f}\")\n"
   ]
  },
  {
   "attachments": {},
   "cell_type": "markdown",
   "metadata": {},
   "source": [
    "Now run the above using `Pool.apply_async`. Was there a big time difference?"
   ]
  },
  {
   "cell_type": "code",
   "execution_count": null,
   "metadata": {},
   "outputs": [],
   "source": [
    "start = datetime.now()\n",
    "\n",
    "# ------------------------------------------------\n",
    "\n",
    "# TODO: Use multiprocessing.Pool and Pool.apply_async\n",
    "#       to execute pool_sample() in parallel.\n",
    "\n",
    "\n",
    "# ------------------------------------------------\n",
    "\n",
    "pi = 4.0 * hits / nsamples\n",
    "print(f\"Time: {datetime.now() - start}, pi: {pi:.9f}\")"
   ]
  },
  {
   "attachments": {},
   "cell_type": "markdown",
   "metadata": {},
   "source": [
    "We now turn to using `Pool.map`. Run `pool_sample()` in parallel using map. How should we construct the input argument in this case?"
   ]
  },
  {
   "cell_type": "code",
   "execution_count": null,
   "metadata": {},
   "outputs": [],
   "source": [
    "# Map\n",
    "\n",
    "# ------------------------------------------------\n",
    "args = [] # TODO: modify.\n",
    "\n",
    "# ------------------------------------------------\n",
    "\n",
    "\n",
    "\n",
    "start = datetime.now()\n",
    "# ------------------------------------------------\n",
    "\n",
    "# TODO: Use multiprocessing.Pool and Pool.map\n",
    "#       to execute pool_sample() in parallel.\n",
    "\n",
    "# ------------------------------------------------\n",
    "\n",
    "pi = 4.0 * hits / nsamples\n",
    "print(f\"Time: {datetime.now() - start}, pi: {pi:.9f}\")\n"
   ]
  },
  {
   "attachments": {},
   "cell_type": "markdown",
   "metadata": {},
   "source": [
    "Now run the above using `Pool.map_async`. Was there a big time difference?"
   ]
  },
  {
   "cell_type": "code",
   "execution_count": 12,
   "metadata": {},
   "outputs": [
    {
     "name": "stdout",
     "output_type": "stream",
     "text": [
      "Time: 0:00:03.556724, pi: 3.141332800\n"
     ]
    }
   ],
   "source": [
    "start = datetime.now()\n",
    "# ------------------------------------------------\n",
    "\n",
    "# TODO: Use multiprocessing.Pool and Pool.map_async\n",
    "#       to execute pool_sample() in parallel.\n",
    "\n",
    "# ------------------------------------------------\n",
    "pi = 4.0 * hits / nsamples\n",
    "print(f\"Time: {datetime.now() - start}, pi: {pi:.9f}\")"
   ]
  }
 ],
 "metadata": {
  "kernelspec": {
   "display_name": "ML",
   "language": "python",
   "name": "python3"
  },
  "language_info": {
   "codemirror_mode": {
    "name": "ipython",
    "version": 3
   },
   "file_extension": ".py",
   "mimetype": "text/x-python",
   "name": "python",
   "nbconvert_exporter": "python",
   "pygments_lexer": "ipython3",
   "version": "3.10.6"
  },
  "orig_nbformat": 4
 },
 "nbformat": 4,
 "nbformat_minor": 2
}
