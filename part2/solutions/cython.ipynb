{
 "cells": [
  {
   "attachments": {},
   "cell_type": "markdown",
   "metadata": {},
   "source": [
    "# Exploring Cython"
   ]
  },
  {
   "attachments": {},
   "cell_type": "markdown",
   "metadata": {},
   "source": [
    "In this notebook we will explore accelerating computations using Cython."
   ]
  },
  {
   "attachments": {},
   "cell_type": "markdown",
   "metadata": {},
   "source": [
    "### Monte-Carlo simulation of dice rolls"
   ]
  },
  {
   "attachments": {},
   "cell_type": "markdown",
   "metadata": {},
   "source": [
    "We will look to use monte-carlo simulation to compute the probability of seeing *at least* M sixes from N dices rolls. \n",
    "\n",
    "Below is a basic Python implementation of such a simulation."
   ]
  },
  {
   "cell_type": "code",
   "execution_count": 1,
   "metadata": {},
   "outputs": [],
   "source": [
    "from datetime import datetime\n",
    "import random\n",
    "\n",
    "def is_six(ndice, nsix):\n",
    "    six = 0\n",
    "    for j in range(ndice):\n",
    "        r = random.randint(1, 6)  # roll jth die\n",
    "        if r == 6:\n",
    "            six += 1\n",
    "\n",
    "    if six >= nsix:\n",
    "        return 1\n",
    "    return 0\n",
    "    \n",
    "def dice6_py(N, ndice, nsix):\n",
    "    M = 0                     # no of successful events\n",
    "    for i in range(N):        # repeat N experiments\n",
    "        M += is_six(ndice, nsix)\n",
    "    p = float(M)/N\n",
    "    return p"
   ]
  },
  {
   "cell_type": "code",
   "execution_count": 8,
   "metadata": {},
   "outputs": [],
   "source": [
    "from scipy.stats import binom\n",
    "\n",
    "# Computes the true probability of rolling M sixes in N dice throws\n",
    "def true_prob(ndice, nsix):\n",
    "    p = 0.0\n",
    "    for n in range(nsix, ndice+1):\n",
    "        p += binom.pmf(n, ndice, 1/6)\n",
    "    return p"
   ]
  },
  {
   "attachments": {},
   "cell_type": "markdown",
   "metadata": {},
   "source": [
    "We can now run the computation and compare it to the true probability of the event."
   ]
  },
  {
   "cell_type": "code",
   "execution_count": null,
   "metadata": {},
   "outputs": [],
   "source": [
    "N = 500000\n",
    "ndice = 20\n",
    "nsix = 5\n",
    "t0 = datetime.now()\n",
    "p = dice6_py(N, ndice, nsix)\n",
    "t1 = datetime.now()\n",
    "print(f\"Time     : {t1-t0}\\nMC prob  : {p:.6f}\\nTrue prob: {true_prob(ndice, nsix):.6f}\")"
   ]
  },
  {
   "cell_type": "markdown",
   "metadata": {},
   "source": [
    "Pretty slow. We now see how we can speed it up."
   ]
  },
  {
   "attachments": {},
   "cell_type": "markdown",
   "metadata": {},
   "source": [
    "### Vectorized implementation"
   ]
  },
  {
   "attachments": {},
   "cell_type": "markdown",
   "metadata": {},
   "source": [
    "The first thing we can try to accelerate the code is to vectorize it using numpy. Below is a vectorized implementation."
   ]
  },
  {
   "cell_type": "code",
   "execution_count": null,
   "metadata": {},
   "outputs": [],
   "source": [
    "import numpy as np\n",
    "\n",
    "def dice6_vec2(N, ndice, nsix):\n",
    "    eyes = np.random.randint(1, 6+1, (N, ndice))\n",
    "    six = [6 for i in range(ndice)]\n",
    "    M = 0\n",
    "    for i in range(N):\n",
    "        compare = eyes[i,:] == six\n",
    "        if np.sum(compare) >= nsix:\n",
    "            M += 1\n",
    "    p = float(M)/N\n",
    "    return p"
   ]
  },
  {
   "cell_type": "code",
   "execution_count": null,
   "metadata": {},
   "outputs": [],
   "source": [
    "N = 500000\n",
    "ndice = 20\n",
    "nsix = 5\n",
    "t0 = datetime.now()\n",
    "p = dice6_vec2(N, ndice, nsix)\n",
    "t1 = datetime.now()\n",
    "print(f\"Time     : {t1-t0}\\nMC prob  : {p:.6f}\\nTrue prob: {true_prob(ndice, nsix):.6f}\")"
   ]
  },
  {
   "attachments": {},
   "cell_type": "markdown",
   "metadata": {},
   "source": [
    "### Plain Cython Implementation"
   ]
  },
  {
   "attachments": {},
   "cell_type": "markdown",
   "metadata": {},
   "source": [
    "We now turn to doing the same computation in Cython. \n",
    "\n",
    "TODO: \n",
    "\n",
    "Write a naive implementation of our dice computation in a function `dice6_cy1()` in the Cython file `dice6_cy1.pyx`. To compute a random integer, use the Python `random` library in your Cython code and also write the loop using `range()`.\n",
    "\n",
    "Once that is done, write a setup script in `dice6_cy1_setup.py` to allow compilation.\n"
   ]
  },
  {
   "cell_type": "code",
   "execution_count": 2,
   "metadata": {},
   "outputs": [
    {
     "name": "stdout",
     "output_type": "stream",
     "text": [
      "running build_ext\n",
      "cythoning dice6_cy1.pyx to dice6_cy1.c\n",
      "/home/users/u6642247/anaconda3/envs/ML/lib/python3.10/site-packages/Cython/Compiler/Main.py:369: FutureWarning: Cython directive 'language_level' not set, using 2 for now (Py2). This will change in a later release! File: /home/users/u6642247/Python-HPC/part2/solutions/dice6_cy1.pyx\n",
      "  tree = Parsing.p_module(s, pxd, full_module_name)\n",
      "building 'dice6_cy1' extension\n",
      "creating build\n",
      "creating build/temp.linux-x86_64-cpython-310\n",
      "gcc -pthread -B /home/users/u6642247/anaconda3/envs/ML/compiler_compat -Wno-unused-result -Wsign-compare -DNDEBUG -fwrapv -O2 -Wall -fPIC -O2 -isystem /home/users/u6642247/anaconda3/envs/ML/include -fPIC -O2 -isystem /home/users/u6642247/anaconda3/envs/ML/include -fPIC -I/home/users/u6642247/anaconda3/envs/ML/include/python3.10 -c dice6_cy1.c -o build/temp.linux-x86_64-cpython-310/dice6_cy1.o\n",
      "gcc -pthread -B /home/users/u6642247/anaconda3/envs/ML/compiler_compat -shared -Wl,-rpath,/home/users/u6642247/anaconda3/envs/ML/lib -Wl,-rpath-link,/home/users/u6642247/anaconda3/envs/ML/lib -L/home/users/u6642247/anaconda3/envs/ML/lib -Wl,-rpath,/home/users/u6642247/anaconda3/envs/ML/lib -Wl,-rpath-link,/home/users/u6642247/anaconda3/envs/ML/lib -L/home/users/u6642247/anaconda3/envs/ML/lib build/temp.linux-x86_64-cpython-310/dice6_cy1.o -o /home/users/u6642247/Python-HPC/part2/solutions/dice6_cy1.cpython-310-x86_64-linux-gnu.so\n"
     ]
    }
   ],
   "source": [
    "from datetime import datetime\n",
    "\n",
    "# Compile and import Cython code\n",
    "!python dice6_cy1_setup.py build_ext --inplace\n",
    "from dice6_cy1 import dice6_cy1"
   ]
  },
  {
   "cell_type": "code",
   "execution_count": 4,
   "metadata": {},
   "outputs": [
    {
     "name": "stdout",
     "output_type": "stream",
     "text": [
      "Time     : 0:00:05.206797\n",
      "MC prob  : 0.231544\n"
     ]
    }
   ],
   "source": [
    "# Run\n",
    "N = 500000\n",
    "ndice = 20\n",
    "nsix = 5\n",
    "t0 = datetime.now()\n",
    "p = dice6_cy1(N, ndice, nsix)\n",
    "t1 = datetime.now()\n",
    "print(f\"Time     : {t1-t0}\\nMC prob  : {p:.6f}\")"
   ]
  },
  {
   "attachments": {},
   "cell_type": "markdown",
   "metadata": {},
   "source": [
    "While it is often faster than the naive Python implementation, it is still slower than our vectorized Python implementation.\n",
    "\n",
    "We can use a profiler to see which parts of the cython code take the most time."
   ]
  },
  {
   "cell_type": "code",
   "execution_count": 5,
   "metadata": {},
   "outputs": [
    {
     "name": "stdout",
     "output_type": "stream",
     "text": [
      "Fri Mar 24 16:17:41 2023    .prof\n",
      "\n",
      "         83833818 function calls in 19.154 seconds\n",
      "\n",
      "   Ordered by: internal time\n",
      "\n",
      "   ncalls  tottime  percall  cumtime  percall filename:lineno(function)\n",
      " 10000000    7.352    0.000   15.302    0.000 random.py:292(randrange)\n",
      " 10000000    4.643    0.000    6.358    0.000 random.py:239(_randbelow_with_getrandbits)\n",
      " 10000000    2.373    0.000   17.675    0.000 random.py:366(randint)\n",
      " 30000000    1.592    0.000    1.592    0.000 {built-in method _operator.index}\n",
      "   500000    1.391    0.000   19.066    0.000 dice6_cy1.pyx:5(is_six)\n",
      " 13333813    1.044    0.000    1.044    0.000 {method 'getrandbits' of '_random.Random' objects}\n",
      " 10000000    0.671    0.000    0.671    0.000 {method 'bit_length' of 'int' objects}\n",
      "        1    0.088    0.088   19.154   19.154 dice6_cy1.pyx:16(dice6_cy1)\n",
      "        1    0.000    0.000   19.154   19.154 {built-in method builtins.exec}\n",
      "        1    0.000    0.000   19.154   19.154 <string>:1(<module>)\n",
      "        1    0.000    0.000   19.154   19.154 {dice6_cy1.dice6_cy1}\n",
      "        1    0.000    0.000    0.000    0.000 {method 'disable' of '_lsprof.Profiler' objects}\n",
      "\n",
      "\n"
     ]
    },
    {
     "data": {
      "text/plain": [
       "<pstats.Stats at 0x7f3c080d6290>"
      ]
     },
     "execution_count": 5,
     "metadata": {},
     "output_type": "execute_result"
    }
   ],
   "source": [
    "import cProfile, pstats\n",
    "\n",
    "statement = \"dice6_cy1(N, ndice, nsix)\"\n",
    "\n",
    "cProfile.runctx(statement, globals(), locals(), '.prof')\n",
    "s = pstats.Stats('.prof')\n",
    "s.strip_dirs().sort_stats('time').print_stats(30)"
   ]
  },
  {
   "attachments": {},
   "cell_type": "markdown",
   "metadata": {},
   "source": [
    "Looking at the cumtime (cumulative time) column, we can see that the function spends most of its time making calls out to the Python `random.py` library. We can thus try speed things up by using the C standard library random number generator.\n",
    "\n",
    "TODO:\n",
    "\n",
    "Try implement our dice roll simulation in `dice6_cy2.pyx` using the C standard library function `rand()` and its setup script in `dice6_cy2_setup.py`.\n",
    "\n",
    " Note that `rand()` returns an integer between 0 and `RAND_MAX` so you will need to try and restrict its output to 1 to 6 only. "
   ]
  },
  {
   "cell_type": "code",
   "execution_count": 6,
   "metadata": {},
   "outputs": [
    {
     "name": "stdout",
     "output_type": "stream",
     "text": [
      "running build_ext\n",
      "cythoning dice6_cy2.pyx to dice6_cy2.c\n",
      "/home/users/u6642247/anaconda3/envs/ML/lib/python3.10/site-packages/Cython/Compiler/Main.py:369: FutureWarning: Cython directive 'language_level' not set, using 2 for now (Py2). This will change in a later release! File: /home/users/u6642247/Python-HPC/part2/solutions/dice6_cy2.pyx\n",
      "  tree = Parsing.p_module(s, pxd, full_module_name)\n",
      "building 'dice6_cy2' extension\n",
      "gcc -pthread -B /home/users/u6642247/anaconda3/envs/ML/compiler_compat -Wno-unused-result -Wsign-compare -DNDEBUG -fwrapv -O2 -Wall -fPIC -O2 -isystem /home/users/u6642247/anaconda3/envs/ML/include -fPIC -O2 -isystem /home/users/u6642247/anaconda3/envs/ML/include -fPIC -I/home/users/u6642247/anaconda3/envs/ML/include/python3.10 -c dice6_cy2.c -o build/temp.linux-x86_64-cpython-310/dice6_cy2.o\n",
      "gcc -pthread -B /home/users/u6642247/anaconda3/envs/ML/compiler_compat -shared -Wl,-rpath,/home/users/u6642247/anaconda3/envs/ML/lib -Wl,-rpath-link,/home/users/u6642247/anaconda3/envs/ML/lib -L/home/users/u6642247/anaconda3/envs/ML/lib -Wl,-rpath,/home/users/u6642247/anaconda3/envs/ML/lib -Wl,-rpath-link,/home/users/u6642247/anaconda3/envs/ML/lib -L/home/users/u6642247/anaconda3/envs/ML/lib build/temp.linux-x86_64-cpython-310/dice6_cy2.o -o /home/users/u6642247/Python-HPC/part2/solutions/dice6_cy2.cpython-310-x86_64-linux-gnu.so\n"
     ]
    }
   ],
   "source": [
    "!python dice6_cy2_setup.py build_ext --inplace\n",
    "from dice6_cy2 import dice6_cy2"
   ]
  },
  {
   "cell_type": "code",
   "execution_count": 9,
   "metadata": {},
   "outputs": [
    {
     "name": "stdout",
     "output_type": "stream",
     "text": [
      "Time     : 0:00:01.333889\n",
      "MC prob  : 0.217732\n",
      "True prob: 0.219750\n"
     ]
    }
   ],
   "source": [
    "from datetime import datetime\n",
    "\n",
    "\n",
    "N = 500000\n",
    "ndice = 100\n",
    "nsix = 20\n",
    "t0 = datetime.now()\n",
    "p = dice6_cy2(N, ndice, nsix)\n",
    "t1 = datetime.now()\n",
    "print(f\"Time     : {t1-t0}\\nMC prob  : {p:.6f}\\nTrue prob: {true_prob(ndice, nsix):.6f}\")"
   ]
  },
  {
   "cell_type": "markdown",
   "metadata": {},
   "source": [
    "Much faster! But perhaps we can do better..."
   ]
  },
  {
   "attachments": {},
   "cell_type": "markdown",
   "metadata": {},
   "source": [
    "## Parallelization in Cython"
   ]
  },
  {
   "attachments": {},
   "cell_type": "markdown",
   "metadata": {},
   "source": [
    "We now try doing accelerate things using parallelisation in Cython. In theory this will allow us to run multiple iterations of the loop at once in different threads.\n",
    "\n",
    "TODO:\n",
    "\n",
    "Implement our dice simulation in `dice6_cy3.pyx` and `dice6_cy3_setup.py` using the Cython parallel library to parallelise our MC simulations.\n",
    "\n",
    "NOTE: Typecasting of C variables in Cython is done by placing the type in angle brackets, e.g. if x is a double, <int> x typecasts x into an integer.\n",
    "\n",
    "NOTE: Make sure to link the openmp library in `dice6_cy3_setup.py`."
   ]
  },
  {
   "cell_type": "code",
   "execution_count": 10,
   "metadata": {},
   "outputs": [
    {
     "name": "stdout",
     "output_type": "stream",
     "text": [
      "running build_ext\n",
      "cythoning dice6_cy3.pyx to dice6_cy3.c\n",
      "/home/users/u6642247/anaconda3/envs/ML/lib/python3.10/site-packages/Cython/Compiler/Main.py:369: FutureWarning: Cython directive 'language_level' not set, using 2 for now (Py2). This will change in a later release! File: /home/users/u6642247/Python-HPC/part2/solutions/dice6_cy3.pyx\n",
      "  tree = Parsing.p_module(s, pxd, full_module_name)\n",
      "building 'dice6_cy3' extension\n",
      "gcc -pthread -B /home/users/u6642247/anaconda3/envs/ML/compiler_compat -Wno-unused-result -Wsign-compare -DNDEBUG -fwrapv -O2 -Wall -fPIC -O2 -isystem /home/users/u6642247/anaconda3/envs/ML/include -fPIC -O2 -isystem /home/users/u6642247/anaconda3/envs/ML/include -fPIC -I/home/users/u6642247/anaconda3/envs/ML/include/python3.10 -c dice6_cy3.c -o build/temp.linux-x86_64-cpython-310/dice6_cy3.o -fopenmp\n",
      "gcc -pthread -B /home/users/u6642247/anaconda3/envs/ML/compiler_compat -shared -Wl,-rpath,/home/users/u6642247/anaconda3/envs/ML/lib -Wl,-rpath-link,/home/users/u6642247/anaconda3/envs/ML/lib -L/home/users/u6642247/anaconda3/envs/ML/lib -Wl,-rpath,/home/users/u6642247/anaconda3/envs/ML/lib -Wl,-rpath-link,/home/users/u6642247/anaconda3/envs/ML/lib -L/home/users/u6642247/anaconda3/envs/ML/lib build/temp.linux-x86_64-cpython-310/dice6_cy3.o -lm -o /home/users/u6642247/Python-HPC/part2/solutions/dice6_cy3.cpython-310-x86_64-linux-gnu.so -fopenmp\n"
     ]
    }
   ],
   "source": [
    "!python dice6_cy3_setup.py build_ext --inplace\n",
    "from dice6_cy3 import dice6_cy3"
   ]
  },
  {
   "cell_type": "code",
   "execution_count": 11,
   "metadata": {},
   "outputs": [
    {
     "name": "stdout",
     "output_type": "stream",
     "text": [
      "0.23080399632453918 0:00:02.990716\n"
     ]
    }
   ],
   "source": [
    "from datetime import datetime\n",
    "\n",
    "N = 500000\n",
    "ndice = 20\n",
    "nsix = 5\n",
    "t0 = datetime.now()\n",
    "p = dice6_cy3(N, ndice, nsix)\n",
    "t1 = datetime.now()\n",
    "print(p, t1-t0)"
   ]
  },
  {
   "attachments": {},
   "cell_type": "markdown",
   "metadata": {},
   "source": [
    "Surprisingly, it runs slower than our non-parallelised version. \n",
    "\n",
    "The issue is that rand() is not thread-safe and hence is implemented into cython with blocking. Provided in `dice6_cy4.pyx` is an alternative way of sampling random numbers using C++.\n",
    "\n",
    "TODO:\n",
    "Read through `dice6_cy4.pyx` and `dice6_cy4_setup.py`. Try to answer the following questions for yourself (may be worth Googling some of these):\n",
    "\n",
    "- How was the Extension changed in `dice6_cy4_setup.py` to now compile C++?\n",
    "- What do the extra compile and link arguments do?\n",
    "- what is the C++ library that we import?\n",
    "- What does the mt19937 class do?\n",
    "- How does the uniform_real_distribution class work?\n",
    "\n",
    "If you are unfamiliar with C++, don't worry about understanding how the external C++ classes work."
   ]
  },
  {
   "cell_type": "code",
   "execution_count": 13,
   "metadata": {},
   "outputs": [
    {
     "name": "stdout",
     "output_type": "stream",
     "text": [
      "running build_ext\n",
      "skipping 'dice6_cy4.cpp' Cython extension (up-to-date)\n"
     ]
    }
   ],
   "source": [
    "!python dice6_cy4_setup.py build_ext --inplace\n",
    "from dice6_cy4 import dice6_cy4"
   ]
  },
  {
   "cell_type": "code",
   "execution_count": 14,
   "metadata": {},
   "outputs": [
    {
     "name": "stdout",
     "output_type": "stream",
     "text": [
      "0.2189899981021881 0:00:00.244629\n"
     ]
    }
   ],
   "source": [
    "from datetime import datetime\n",
    "\n",
    "\n",
    "N = 500000\n",
    "ndice = 100\n",
    "nsix = 20\n",
    "t0 = datetime.now()\n",
    "p = dice6_cy4(N, ndice, nsix)\n",
    "t1 = datetime.now()\n",
    "print(p, t1-t0)"
   ]
  },
  {
   "cell_type": "markdown",
   "metadata": {},
   "source": [
    "Much faster!"
   ]
  },
  {
   "attachments": {},
   "cell_type": "markdown",
   "metadata": {},
   "source": [
    "### Final Comparisons\n",
    "\n",
    "Run the below code to see a summary of the performance of the different implementations."
   ]
  },
  {
   "cell_type": "code",
   "execution_count": null,
   "metadata": {},
   "outputs": [],
   "source": [
    "N = 500000\n",
    "ndice = 20\n",
    "nsix = 5\n",
    "\n",
    "print(f\"solution               : {true_prob(ndice, nsix):.6f}\")\n",
    "\n",
    "t0 = datetime.now()\n",
    "p = dice6_py(N, ndice, nsix)\n",
    "t1 = datetime.now()\n",
    "print(f\"pure python            : {p:.6f}, {t1-t0}\")\n",
    "\n",
    "\n",
    "t0 = datetime.now()\n",
    "p = dice6_vec2(N, ndice, nsix)\n",
    "t1 = datetime.now()\n",
    "print(f\"vectorized python      : {p:.6f}, {t1-t0}\")\n",
    "\n",
    "\n",
    "t0 = datetime.now()\n",
    "p = dice6_cy1(N, ndice, nsix)\n",
    "t1 = datetime.now()\n",
    "print(f\"plain cython           : {p:.6f}, {t1-t0}\")\n",
    "\n",
    "\n",
    "t0 = datetime.now()\n",
    "p = dice6_cy2(N, ndice, nsix)\n",
    "t1 = datetime.now()\n",
    "print(f\"cython + stdlib rand   : {p:.6f}, {t1-t0}\")\n",
    "\n",
    "\n",
    "t0 = datetime.now()\n",
    "p = dice6_cy3(N, ndice, nsix)\n",
    "t1 = datetime.now()\n",
    "print(f\"cython prange + rand   : {p:.6f}, {t1-t0}\")\n",
    "\n",
    "\n",
    "t0 = datetime.now()\n",
    "p = dice6_cy4(N, ndice, nsix)\n",
    "t1 = datetime.now()\n",
    "print(f\"cython prange + cpp rng: {p:.6f}, {t1-t0}\")"
   ]
  },
  {
   "attachments": {},
   "cell_type": "markdown",
   "metadata": {},
   "source": [
    "### Wrapping C/C++ with Cython"
   ]
  },
  {
   "attachments": {},
   "cell_type": "markdown",
   "metadata": {},
   "source": [
    "As an extension task, try and implement the dice problem in C++ simply using the standard library `rand()` function. Then write a wrapper using Cython before compiling and calling it here."
   ]
  },
  {
   "cell_type": "code",
   "execution_count": null,
   "metadata": {},
   "outputs": [],
   "source": []
  }
 ],
 "metadata": {
  "kernelspec": {
   "display_name": "ML",
   "language": "python",
   "name": "python3"
  },
  "language_info": {
   "codemirror_mode": {
    "name": "ipython",
    "version": 3
   },
   "file_extension": ".py",
   "mimetype": "text/x-python",
   "name": "python",
   "nbconvert_exporter": "python",
   "pygments_lexer": "ipython3",
   "version": "3.10.6"
  },
  "orig_nbformat": 4
 },
 "nbformat": 4,
 "nbformat_minor": 2
}
