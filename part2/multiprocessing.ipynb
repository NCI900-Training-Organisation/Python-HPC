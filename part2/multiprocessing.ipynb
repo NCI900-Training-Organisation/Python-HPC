{
 "cells": [
  {
   "cell_type": "code",
   "execution_count": 2,
   "metadata": {},
   "outputs": [],
   "source": [
    "import multiprocessing as mp\n",
    "import random\n",
    "from datetime import datetime\n",
    "\n",
    "random.seed(12345)\n"
   ]
  },
  {
   "attachments": {},
   "cell_type": "markdown",
   "metadata": {},
   "source": [
    "### Computing $\\pi$"
   ]
  },
  {
   "cell_type": "code",
   "execution_count": 3,
   "metadata": {},
   "outputs": [],
   "source": [
    "nsamples = int(2e7)\n",
    "\n",
    "def sample():\n",
    "    x = random.uniform(-1.0, 1.0)\n",
    "    y = random.uniform(-1.0, 1.0)\n",
    "    if x**2 + y**2 <= 1:\n",
    "        return 1\n",
    "    else:\n",
    "        return 0"
   ]
  },
  {
   "attachments": {},
   "cell_type": "markdown",
   "metadata": {},
   "source": [
    "#### Serial Computation"
   ]
  },
  {
   "cell_type": "code",
   "execution_count": 4,
   "metadata": {},
   "outputs": [
    {
     "name": "stdout",
     "output_type": "stream",
     "text": [
      "Time: 0:00:11.089793, pi: 3.141349200\n"
     ]
    }
   ],
   "source": [
    "def sample_serial(nsamples):\n",
    "    return sum(sample() for i in range(nsamples))\n",
    "\n",
    "start = datetime.now()\n",
    "hits = sample_serial(nsamples)\n",
    "pi = 4.0 * hits / nsamples\n",
    "print(f\"Time: {datetime.now() - start}, pi: {pi:.9f}\")"
   ]
  },
  {
   "attachments": {},
   "cell_type": "markdown",
   "metadata": {},
   "source": [
    "#### Multithreading"
   ]
  },
  {
   "cell_type": "code",
   "execution_count": 6,
   "metadata": {},
   "outputs": [
    {
     "name": "stdout",
     "output_type": "stream",
     "text": [
      "Time: 0:00:26.584747, pi: 3.141604600\n"
     ]
    }
   ],
   "source": [
    "from threading import Thread\n",
    "\n",
    "def thread_sample(chunk_size, output, i):\n",
    "    output[i] = sample_serial(chunk_size)\n",
    "\n",
    "nsamples = int(2e7)\n",
    "nthreads = 4\n",
    "chunk_size = int(nsamples / nthreads)\n",
    "\n",
    "output = [None] * nthreads\n",
    "threads = []\n",
    "\n",
    "start = datetime.now()\n",
    "for i in range(nthreads):\n",
    "    threads += [Thread(target = thread_sample, args=(chunk_size, output, i))]\n",
    "\n",
    "for i in range(nthreads):\n",
    "    threads[i].start()\n",
    "\n",
    "for i in range(nthreads):\n",
    "    threads[i].join()\n",
    "\n",
    "hits = sum(output)\n",
    "pi = 4.0 * hits / nsamples\n",
    "print(f\"Time: {datetime.now() - start}, pi: {pi:.9f}\")"
   ]
  },
  {
   "attachments": {},
   "cell_type": "markdown",
   "metadata": {},
   "source": [
    "#### Using Multiprocessing"
   ]
  },
  {
   "attachments": {},
   "cell_type": "markdown",
   "metadata": {},
   "source": [
    "##### Process class"
   ]
  },
  {
   "cell_type": "code",
   "execution_count": 32,
   "metadata": {},
   "outputs": [
    {
     "name": "stdout",
     "output_type": "stream",
     "text": [
      "Time: 0:00:03.015545, pi: 3.141825800\n"
     ]
    }
   ],
   "source": [
    "import multiprocessing as mp\n",
    "\n",
    "def process_sample(chunk_size, q):\n",
    "    q.put(sample_serial(chunk_size))\n",
    "\n",
    "nprocesses = 4\n",
    "chunk_size = int(nsamples / nprocesses)\n",
    "\n",
    "start = datetime.now()\n",
    "q = mp.Queue()\n",
    "processes = [mp.Process(target=process_sample, args=(chunk_size, q)) for x in range(nprocesses)]\n",
    "\n",
    "for p in processes:\n",
    "    p.start()\n",
    "\n",
    "for p in processes:\n",
    "    p.join()\n",
    "\n",
    "hits = sum(q.get() for p in processes)\n",
    "pi = 4.0 * hits / nsamples\n",
    "\n",
    "print(f\"Time: {datetime.now() - start}, pi: {pi:.9f}\")"
   ]
  },
  {
   "attachments": {},
   "cell_type": "markdown",
   "metadata": {},
   "source": [
    "##### Pool Class"
   ]
  },
  {
   "cell_type": "code",
   "execution_count": 34,
   "metadata": {},
   "outputs": [
    {
     "name": "stdout",
     "output_type": "stream",
     "text": [
      "Time: 0:00:12.035188, pi: 3.141758800\n"
     ]
    }
   ],
   "source": [
    "# Blocks until function returns\n",
    "\n",
    "nsamples = int(2e7)\n",
    "nsplits = 20\n",
    "nprocesses = 4\n",
    "chunk_size = int(nsamples / nsplits)\n",
    "\n",
    "def pool_sample(chunk_size):\n",
    "    return sample_serial(chunk_size)\n",
    "\n",
    "start = datetime.now()\n",
    "pool = mp.Pool(processes = nprocesses)\n",
    "results = [pool.apply(pool_sample, args=(chunk_size,)) for i in range(nsplits)]\n",
    "hits = sum(results)\n",
    "pi = 4.0 * hits / nsamples\n",
    "print(f\"Time: {datetime.now() - start}, pi: {pi:.9f}\")"
   ]
  },
  {
   "cell_type": "code",
   "execution_count": 33,
   "metadata": {},
   "outputs": [
    {
     "name": "stdout",
     "output_type": "stream",
     "text": [
      "Time: 0:00:03.073790, pi: 3.142109400\n"
     ]
    }
   ],
   "source": [
    "# perform many function calls asynchronously\n",
    "\n",
    "nsamples = int(2e7)\n",
    "nsplits = 20\n",
    "nprocesses = 4\n",
    "chunk_size = int(nsamples / nsplits)\n",
    "\n",
    "def pool_sample(chunk_size):\n",
    "    return sample_serial(chunk_size)\n",
    "\n",
    "start = datetime.now()\n",
    "pool = mp.Pool(processes = nprocesses)\n",
    "results = [pool.apply_async(pool_sample, args=(chunk_size,)) for i in range(nsplits)]\n",
    "hits = sum(p.get() for p in results)\n",
    "pi = 4.0 * hits / nsamples\n",
    "print(f\"Time: {datetime.now() - start}, pi: {pi:.9f}\")"
   ]
  },
  {
   "cell_type": "code",
   "execution_count": 42,
   "metadata": {},
   "outputs": [
    {
     "name": "stdout",
     "output_type": "stream",
     "text": [
      "Time: 0:00:03.710573, pi: 3.141283600\n"
     ]
    }
   ],
   "source": [
    "# Map\n",
    "\n",
    "args = [chunk_size for i in range(nsplits)]\n",
    "\n",
    "start = datetime.now()\n",
    "pool = mp.Pool(processes = nprocesses)\n",
    "results = pool.map_async(pool_sample, args)\n",
    "hits = sum(results.get())\n",
    "pi = 4.0 * hits / nsamples\n",
    "print(f\"Time: {datetime.now() - start}, pi: {pi:.9f}\")\n"
   ]
  }
 ],
 "metadata": {
  "kernelspec": {
   "display_name": "ML",
   "language": "python",
   "name": "python3"
  },
  "language_info": {
   "codemirror_mode": {
    "name": "ipython",
    "version": 3
   },
   "file_extension": ".py",
   "mimetype": "text/x-python",
   "name": "python",
   "nbconvert_exporter": "python",
   "pygments_lexer": "ipython3",
   "version": "3.10.6"
  },
  "orig_nbformat": 4
 },
 "nbformat": 4,
 "nbformat_minor": 2
}
