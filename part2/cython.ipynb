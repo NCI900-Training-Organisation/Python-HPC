{
 "cells": [
  {
   "cell_type": "code",
   "execution_count": null,
   "metadata": {},
   "outputs": [],
   "source": [
    "!rm -rf ./build\n",
    "!rm *.c\n",
    "!rm *.so"
   ]
  },
  {
   "cell_type": "code",
   "execution_count": null,
   "metadata": {},
   "outputs": [],
   "source": [
    "from datetime import datetime"
   ]
  },
  {
   "attachments": {},
   "cell_type": "markdown",
   "metadata": {},
   "source": [
    "### Cython hello world"
   ]
  },
  {
   "cell_type": "code",
   "execution_count": null,
   "metadata": {},
   "outputs": [],
   "source": [
    "!python helloworld_setup.py build_ext --inplace"
   ]
  },
  {
   "cell_type": "code",
   "execution_count": null,
   "metadata": {},
   "outputs": [],
   "source": [
    "import helloworld"
   ]
  },
  {
   "attachments": {},
   "cell_type": "markdown",
   "metadata": {},
   "source": [
    "#### Finding Prime Numbers in Python"
   ]
  },
  {
   "cell_type": "code",
   "execution_count": null,
   "metadata": {},
   "outputs": [],
   "source": [
    "N = int(2e4)\n",
    "\n",
    "def get_nth_primes(nb_primes):\n",
    "    p = [None] * 100000\n",
    "\n",
    "    if nb_primes > 100000:\n",
    "        nb_primes = 100000\n",
    "\n",
    "    len_p = 0\n",
    "    n = 2\n",
    "    while len_p < nb_primes:\n",
    "        for i in p[:len_p]:\n",
    "            if n % i == 0:\n",
    "                break\n",
    "        else:\n",
    "            p[len_p] = n\n",
    "            len_p += 1\n",
    "        n += 1\n",
    "\n",
    "    result_as_list = [prime for prime in p[:len_p]]\n",
    "    out = result_as_list[-1]\n",
    "    return out\n",
    "\n",
    "# ---------------------------------------------------------- #\n",
    "\n",
    "start = datetime.now()\n",
    "result = get_nth_primes(N)\n",
    "print(f\"Time: {datetime.now() - start}, Result: {result}\")"
   ]
  },
  {
   "cell_type": "markdown",
   "metadata": {},
   "source": [
    "### Finding Prime Numbers in Cython"
   ]
  },
  {
   "cell_type": "code",
   "execution_count": null,
   "metadata": {},
   "outputs": [],
   "source": [
    "!python primes_setup.py build_ext --inplace"
   ]
  },
  {
   "cell_type": "code",
   "execution_count": null,
   "metadata": {},
   "outputs": [],
   "source": [
    "import primes\n",
    "\n",
    "start = datetime.now()\n",
    "result = primes.get_nth_primes(N)\n",
    "print(f\"Time: {datetime.now() - start}, Result: {result}\")"
   ]
  },
  {
   "attachments": {},
   "cell_type": "markdown",
   "metadata": {},
   "source": [
    "### Try: \n",
    "\n",
    "Edit Implement a function that runs serially to compute the number of hits that land inside the unit circle in cy_ssample.pyx and how it should compile in cy_ssample_setup.py"
   ]
  },
  {
   "cell_type": "code",
   "execution_count": null,
   "metadata": {},
   "outputs": [],
   "source": [
    "!python cy_ssample_setup.py build_ext --inplace"
   ]
  },
  {
   "cell_type": "code",
   "execution_count": null,
   "metadata": {},
   "outputs": [],
   "source": [
    "from cy_ssample import sample_serial\n",
    "\n",
    "nsamples = int(1e7)\n",
    "start = datetime.now()\n",
    "hits = sample_serial(nsamples)\n",
    "\n",
    "pi = 4.0 * hits / nsamples\n",
    "print(f\"Time: {datetime.now() - start}, pi: {pi:.9f}\")"
   ]
  },
  {
   "attachments": {},
   "cell_type": "markdown",
   "metadata": {},
   "source": [
    "### Using Parallelism with Cython"
   ]
  },
  {
   "attachments": {},
   "cell_type": "markdown",
   "metadata": {},
   "source": [
    "##### Using prange"
   ]
  },
  {
   "cell_type": "code",
   "execution_count": null,
   "metadata": {},
   "outputs": [],
   "source": [
    "import numpy as np\n",
    "\n",
    "def array_f(X):\n",
    "    Y = np.zeros(X.shape)\n",
    "    index = X > 0.5\n",
    "    Y[index] = np.exp(X[index])\n",
    "    return Y"
   ]
  },
  {
   "cell_type": "code",
   "execution_count": null,
   "metadata": {},
   "outputs": [],
   "source": [
    "!python thread_demo_setup.py build_ext --inplace"
   ]
  },
  {
   "cell_type": "code",
   "execution_count": null,
   "metadata": {},
   "outputs": [],
   "source": [
    "from datetime import datetime\n",
    "from thread_demo import *\n",
    "\n",
    "X = -1 + 2*np.random.rand(int(1e8))\n",
    "\n",
    "start_= datetime.now()\n",
    "array_f(X)\n",
    "print(f\"Time: {datetime.now() - start_}\")\n",
    "\n",
    "start_= datetime.now()\n",
    "cy_array_f(X)\n",
    "print(f\"Time: {datetime.now() - start_}\")\n",
    "\n",
    "start_= datetime.now()\n",
    "cy_prange_array_f(X)\n",
    "print(f\"Time: {datetime.now() - start_}\")\n"
   ]
  },
  {
   "attachments": {},
   "cell_type": "markdown",
   "metadata": {},
   "source": [
    "### Try: "
   ]
  },
  {
   "cell_type": "code",
   "execution_count": null,
   "metadata": {},
   "outputs": [],
   "source": [
    "!python cy_psample_setup.py build_ext --inplace"
   ]
  },
  {
   "cell_type": "code",
   "execution_count": null,
   "metadata": {},
   "outputs": [],
   "source": [
    "from datetime import datetime\n",
    "from cy_psample import sample_parallel\n",
    "\n",
    "nsamples = int(2e7)\n",
    "start = datetime.now()\n",
    "hits = sample_parallel(nsamples)\n",
    "pi = 4.0 * hits / nsamples\n",
    "print(f\"Time: {datetime.now() - start}, pi: {pi:.9f}\")"
   ]
  },
  {
   "attachments": {},
   "cell_type": "markdown",
   "metadata": {},
   "source": [
    "#### Wrapping C++"
   ]
  },
  {
   "cell_type": "code",
   "execution_count": null,
   "metadata": {},
   "outputs": [],
   "source": [
    "!python pi_setup.py build_ext --inplace"
   ]
  },
  {
   "cell_type": "code",
   "execution_count": null,
   "metadata": {},
   "outputs": [],
   "source": [
    "import pi_cython\n",
    "\n",
    "nsamples = int(2e7)\n",
    "start = datetime.now()\n",
    "hits = pi_cython.serial_sampler(nsamples)\n",
    "pi = 4.0 * hits / nsamples\n",
    "print(f\"Time: {datetime.now() - start}, pi: {pi:.9f}\")\n"
   ]
  },
  {
   "cell_type": "code",
   "execution_count": null,
   "metadata": {},
   "outputs": [],
   "source": []
  }
 ],
 "metadata": {
  "kernelspec": {
   "display_name": "ML",
   "language": "python",
   "name": "python3"
  },
  "language_info": {
   "codemirror_mode": {
    "name": "ipython",
    "version": 3
   },
   "file_extension": ".py",
   "mimetype": "text/x-python",
   "name": "python",
   "nbconvert_exporter": "python",
   "pygments_lexer": "ipython3",
   "version": "3.10.6"
  },
  "orig_nbformat": 4
 },
 "nbformat": 4,
 "nbformat_minor": 2
}
